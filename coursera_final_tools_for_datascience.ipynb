{
  "nbformat": 4,
  "nbformat_minor": 0,
  "metadata": {
    "colab": {
      "provenance": []
    },
    "kernelspec": {
      "name": "python3",
      "display_name": "Python 3"
    },
    "language_info": {
      "name": "python"
    }
  },
  "cells": [
    {
      "cell_type": "markdown",
      "source": [
        "# Data Science Notebook\n"
      ],
      "metadata": {
        "id": "lIKMEVkBesbo"
      }
    },
    {
      "cell_type": "markdown",
      "source": [
        "## Introduction\n",
        "\n",
        "Welcome to this data science notebook! In this notebook, we will explore various aspects of data science, including programming languages, libraries, tools, and basic arithmetic expressions. Let's dive in!\n"
      ],
      "metadata": {
        "id": "LIRbHaZoeblK"
      }
    },
    {
      "cell_type": "markdown",
      "source": [
        "Exercise 4 - Data Science Languages:"
      ],
      "metadata": {
        "id": "eOVY_LScelrJ"
      }
    },
    {
      "cell_type": "code",
      "source": [
        "ds_languanges = [\"python\", \"R\", \"Julia\", \"Scala\", \"SQL\"]\n",
        "print(ds_languanges)"
      ],
      "metadata": {
        "id": "OWizZw6yejfm",
        "colab": {
          "base_uri": "https://localhost:8080/"
        },
        "outputId": "c6771ff3-5cb2-4281-9908-a7998111cf81"
      },
      "execution_count": 3,
      "outputs": [
        {
          "output_type": "stream",
          "name": "stdout",
          "text": [
            "['python', 'R', 'Julia', 'Scala', 'SQL']\n"
          ]
        }
      ]
    },
    {
      "cell_type": "markdown",
      "source": [
        "  Exercise 5 - DS Libraries"
      ],
      "metadata": {
        "id": "EXiOk9InezXv"
      }
    },
    {
      "cell_type": "code",
      "source": [
        "ds_libs = [\"numpy\", \"pandas\", \"scikit-learn\"]\n",
        "print(ds_libs)"
      ],
      "metadata": {
        "id": "oGb4DXcZe-6P",
        "colab": {
          "base_uri": "https://localhost:8080/"
        },
        "outputId": "89c99e2c-33e3-4136-bf06-ae25f8a7de25"
      },
      "execution_count": 2,
      "outputs": [
        {
          "output_type": "stream",
          "name": "stdout",
          "text": [
            "['numpy', 'pandas', 'scikit-learn']\n"
          ]
        }
      ]
    },
    {
      "cell_type": "markdown",
      "source": [
        "Exercise 6 - Data Science Tools Table:"
      ],
      "metadata": {
        "id": "rNaf-KH1fGNq"
      }
    },
    {
      "cell_type": "code",
      "source": [
        "import pandas as pd\n",
        "\n",
        "data = {\n",
        "    'Tool': [\n",
        "        'Jupyter Notebook',\n",
        "        'VS Code',\n",
        "        'Git',\n",
        "        'Docker',\n",
        "        'SQL Databases',\n",
        "        'Tableau',\n",
        "        'Spark'\n",
        "    ],\n",
        "    'Purpose': [\n",
        "        'Interactive coding',\n",
        "        'Code editing',\n",
        "        'Version control',\n",
        "        'Containerization',\n",
        "        'Data storage and queries',\n",
        "        'Data visualization',\n",
        "        'Big data processing'\n",
        "    ]\n",
        "}\n",
        "\n",
        "df = pd.DataFrame(data)\n",
        "df.head(6)"
      ],
      "metadata": {
        "id": "WvGYpNjQfWLo",
        "colab": {
          "base_uri": "https://localhost:8080/",
          "height": 237
        },
        "outputId": "df790fbb-ed61-4cb2-c9a4-939cee7f4321"
      },
      "execution_count": 5,
      "outputs": [
        {
          "output_type": "execute_result",
          "data": {
            "text/plain": [
              "               Tool                   Purpose\n",
              "0  Jupyter Notebook        Interactive coding\n",
              "1           VS Code              Code editing\n",
              "2               Git           Version control\n",
              "3            Docker          Containerization\n",
              "4     SQL Databases  Data storage and queries\n",
              "5           Tableau        Data visualization"
            ],
            "text/html": [
              "\n",
              "\n",
              "  <div id=\"df-91cea2ac-deed-4bc6-90e9-4889af458299\">\n",
              "    <div class=\"colab-df-container\">\n",
              "      <div>\n",
              "<style scoped>\n",
              "    .dataframe tbody tr th:only-of-type {\n",
              "        vertical-align: middle;\n",
              "    }\n",
              "\n",
              "    .dataframe tbody tr th {\n",
              "        vertical-align: top;\n",
              "    }\n",
              "\n",
              "    .dataframe thead th {\n",
              "        text-align: right;\n",
              "    }\n",
              "</style>\n",
              "<table border=\"1\" class=\"dataframe\">\n",
              "  <thead>\n",
              "    <tr style=\"text-align: right;\">\n",
              "      <th></th>\n",
              "      <th>Tool</th>\n",
              "      <th>Purpose</th>\n",
              "    </tr>\n",
              "  </thead>\n",
              "  <tbody>\n",
              "    <tr>\n",
              "      <th>0</th>\n",
              "      <td>Jupyter Notebook</td>\n",
              "      <td>Interactive coding</td>\n",
              "    </tr>\n",
              "    <tr>\n",
              "      <th>1</th>\n",
              "      <td>VS Code</td>\n",
              "      <td>Code editing</td>\n",
              "    </tr>\n",
              "    <tr>\n",
              "      <th>2</th>\n",
              "      <td>Git</td>\n",
              "      <td>Version control</td>\n",
              "    </tr>\n",
              "    <tr>\n",
              "      <th>3</th>\n",
              "      <td>Docker</td>\n",
              "      <td>Containerization</td>\n",
              "    </tr>\n",
              "    <tr>\n",
              "      <th>4</th>\n",
              "      <td>SQL Databases</td>\n",
              "      <td>Data storage and queries</td>\n",
              "    </tr>\n",
              "    <tr>\n",
              "      <th>5</th>\n",
              "      <td>Tableau</td>\n",
              "      <td>Data visualization</td>\n",
              "    </tr>\n",
              "  </tbody>\n",
              "</table>\n",
              "</div>\n",
              "      <button class=\"colab-df-convert\" onclick=\"convertToInteractive('df-91cea2ac-deed-4bc6-90e9-4889af458299')\"\n",
              "              title=\"Convert this dataframe to an interactive table.\"\n",
              "              style=\"display:none;\">\n",
              "\n",
              "  <svg xmlns=\"http://www.w3.org/2000/svg\" height=\"24px\"viewBox=\"0 0 24 24\"\n",
              "       width=\"24px\">\n",
              "    <path d=\"M0 0h24v24H0V0z\" fill=\"none\"/>\n",
              "    <path d=\"M18.56 5.44l.94 2.06.94-2.06 2.06-.94-2.06-.94-.94-2.06-.94 2.06-2.06.94zm-11 1L8.5 8.5l.94-2.06 2.06-.94-2.06-.94L8.5 2.5l-.94 2.06-2.06.94zm10 10l.94 2.06.94-2.06 2.06-.94-2.06-.94-.94-2.06-.94 2.06-2.06.94z\"/><path d=\"M17.41 7.96l-1.37-1.37c-.4-.4-.92-.59-1.43-.59-.52 0-1.04.2-1.43.59L10.3 9.45l-7.72 7.72c-.78.78-.78 2.05 0 2.83L4 21.41c.39.39.9.59 1.41.59.51 0 1.02-.2 1.41-.59l7.78-7.78 2.81-2.81c.8-.78.8-2.07 0-2.86zM5.41 20L4 18.59l7.72-7.72 1.47 1.35L5.41 20z\"/>\n",
              "  </svg>\n",
              "      </button>\n",
              "\n",
              "\n",
              "\n",
              "    <div id=\"df-f47eb0f0-6c86-4027-91f4-65f572f343fa\">\n",
              "      <button class=\"colab-df-quickchart\" onclick=\"quickchart('df-f47eb0f0-6c86-4027-91f4-65f572f343fa')\"\n",
              "              title=\"Suggest charts.\"\n",
              "              style=\"display:none;\">\n",
              "\n",
              "<svg xmlns=\"http://www.w3.org/2000/svg\" height=\"24px\"viewBox=\"0 0 24 24\"\n",
              "     width=\"24px\">\n",
              "    <g>\n",
              "        <path d=\"M19 3H5c-1.1 0-2 .9-2 2v14c0 1.1.9 2 2 2h14c1.1 0 2-.9 2-2V5c0-1.1-.9-2-2-2zM9 17H7v-7h2v7zm4 0h-2V7h2v10zm4 0h-2v-4h2v4z\"/>\n",
              "    </g>\n",
              "</svg>\n",
              "      </button>\n",
              "    </div>\n",
              "\n",
              "<style>\n",
              "  .colab-df-quickchart {\n",
              "    background-color: #E8F0FE;\n",
              "    border: none;\n",
              "    border-radius: 50%;\n",
              "    cursor: pointer;\n",
              "    display: none;\n",
              "    fill: #1967D2;\n",
              "    height: 32px;\n",
              "    padding: 0 0 0 0;\n",
              "    width: 32px;\n",
              "  }\n",
              "\n",
              "  .colab-df-quickchart:hover {\n",
              "    background-color: #E2EBFA;\n",
              "    box-shadow: 0px 1px 2px rgba(60, 64, 67, 0.3), 0px 1px 3px 1px rgba(60, 64, 67, 0.15);\n",
              "    fill: #174EA6;\n",
              "  }\n",
              "\n",
              "  [theme=dark] .colab-df-quickchart {\n",
              "    background-color: #3B4455;\n",
              "    fill: #D2E3FC;\n",
              "  }\n",
              "\n",
              "  [theme=dark] .colab-df-quickchart:hover {\n",
              "    background-color: #434B5C;\n",
              "    box-shadow: 0px 1px 3px 1px rgba(0, 0, 0, 0.15);\n",
              "    filter: drop-shadow(0px 1px 2px rgba(0, 0, 0, 0.3));\n",
              "    fill: #FFFFFF;\n",
              "  }\n",
              "</style>\n",
              "\n",
              "    <script>\n",
              "      async function quickchart(key) {\n",
              "        const containerElement = document.querySelector('#' + key);\n",
              "        const charts = await google.colab.kernel.invokeFunction(\n",
              "            'suggestCharts', [key], {});\n",
              "      }\n",
              "    </script>\n",
              "\n",
              "      <script>\n",
              "\n",
              "function displayQuickchartButton(domScope) {\n",
              "  let quickchartButtonEl =\n",
              "    domScope.querySelector('#df-f47eb0f0-6c86-4027-91f4-65f572f343fa button.colab-df-quickchart');\n",
              "  quickchartButtonEl.style.display =\n",
              "    google.colab.kernel.accessAllowed ? 'block' : 'none';\n",
              "}\n",
              "\n",
              "        displayQuickchartButton(document);\n",
              "      </script>\n",
              "      <style>\n",
              "    .colab-df-container {\n",
              "      display:flex;\n",
              "      flex-wrap:wrap;\n",
              "      gap: 12px;\n",
              "    }\n",
              "\n",
              "    .colab-df-convert {\n",
              "      background-color: #E8F0FE;\n",
              "      border: none;\n",
              "      border-radius: 50%;\n",
              "      cursor: pointer;\n",
              "      display: none;\n",
              "      fill: #1967D2;\n",
              "      height: 32px;\n",
              "      padding: 0 0 0 0;\n",
              "      width: 32px;\n",
              "    }\n",
              "\n",
              "    .colab-df-convert:hover {\n",
              "      background-color: #E2EBFA;\n",
              "      box-shadow: 0px 1px 2px rgba(60, 64, 67, 0.3), 0px 1px 3px 1px rgba(60, 64, 67, 0.15);\n",
              "      fill: #174EA6;\n",
              "    }\n",
              "\n",
              "    [theme=dark] .colab-df-convert {\n",
              "      background-color: #3B4455;\n",
              "      fill: #D2E3FC;\n",
              "    }\n",
              "\n",
              "    [theme=dark] .colab-df-convert:hover {\n",
              "      background-color: #434B5C;\n",
              "      box-shadow: 0px 1px 3px 1px rgba(0, 0, 0, 0.15);\n",
              "      filter: drop-shadow(0px 1px 2px rgba(0, 0, 0, 0.3));\n",
              "      fill: #FFFFFF;\n",
              "    }\n",
              "  </style>\n",
              "\n",
              "      <script>\n",
              "        const buttonEl =\n",
              "          document.querySelector('#df-91cea2ac-deed-4bc6-90e9-4889af458299 button.colab-df-convert');\n",
              "        buttonEl.style.display =\n",
              "          google.colab.kernel.accessAllowed ? 'block' : 'none';\n",
              "\n",
              "        async function convertToInteractive(key) {\n",
              "          const element = document.querySelector('#df-91cea2ac-deed-4bc6-90e9-4889af458299');\n",
              "          const dataTable =\n",
              "            await google.colab.kernel.invokeFunction('convertToInteractive',\n",
              "                                                     [key], {});\n",
              "          if (!dataTable) return;\n",
              "\n",
              "          const docLinkHtml = 'Like what you see? Visit the ' +\n",
              "            '<a target=\"_blank\" href=https://colab.research.google.com/notebooks/data_table.ipynb>data table notebook</a>'\n",
              "            + ' to learn more about interactive tables.';\n",
              "          element.innerHTML = '';\n",
              "          dataTable['output_type'] = 'display_data';\n",
              "          await google.colab.output.renderOutput(dataTable, element);\n",
              "          const docLink = document.createElement('div');\n",
              "          docLink.innerHTML = docLinkHtml;\n",
              "          element.appendChild(docLink);\n",
              "        }\n",
              "      </script>\n",
              "    </div>\n",
              "  </div>\n"
            ]
          },
          "metadata": {},
          "execution_count": 5
        }
      ]
    },
    {
      "cell_type": "markdown",
      "source": [
        "Exercise 7 - Arithmetic Expression Examples:\n",
        "In data science, arithmetic expressions play a crucial role in calculations and analysis. Here are some examples:\n",
        "\n",
        "- Addition: `2 + 3`\n",
        "- Subtraction: `10 - 5`\n",
        "- Multiplication: `4 * 6`\n",
        "- Division: `15 / 3`\n",
        "- Exponentiation: `2 ** 4`\n"
      ],
      "metadata": {
        "id": "pHBL0ckLfbHG"
      }
    },
    {
      "cell_type": "markdown",
      "source": [
        "Exercise 8 - Create a code cell to multiply and add numbers"
      ],
      "metadata": {
        "id": "F03n7Kpjckb4"
      }
    },
    {
      "cell_type": "code",
      "source": [
        "multiply = 4 * 3\n",
        "addition = 1 + 2\n"
      ],
      "metadata": {
        "id": "Gqz35vbDb0DO"
      },
      "execution_count": 9,
      "outputs": []
    },
    {
      "cell_type": "markdown",
      "source": [
        "Exercise 9 - Create a code cell to convert minutes to hours."
      ],
      "metadata": {
        "id": "giJFbaFWctiY"
      }
    },
    {
      "cell_type": "code",
      "source": [
        "def minutes_to_hour(input):\n",
        "  hour = input / 60\n",
        "  return hour\n",
        "\n",
        "minutes_to_hour(60)"
      ],
      "metadata": {
        "colab": {
          "base_uri": "https://localhost:8080/"
        },
        "id": "EyUgDt6IcMMk",
        "outputId": "fd44ba1e-2201-40fa-a2a2-393328217b33"
      },
      "execution_count": 10,
      "outputs": [
        {
          "output_type": "execute_result",
          "data": {
            "text/plain": [
              "1.0"
            ]
          },
          "metadata": {},
          "execution_count": 10
        }
      ]
    },
    {
      "cell_type": "markdown",
      "source": [
        "Exercise 10 - Objectives:\n",
        "\n",
        "In this notebook, we aim to achieve the following:\n",
        "\n",
        "1. Explore different programming languages in data science.\n",
        "2. Discover essential data science libraries.\n",
        "3. Introduce common data science tools.\n",
        "4. Practice basic arithmetic expressions.\n",
        "5. convert minute hour using function"
      ],
      "metadata": {
        "id": "Qtka7RD5dSIF"
      }
    },
    {
      "cell_type": "markdown",
      "source": [
        "*Author: Baskoro Nugroho*"
      ],
      "metadata": {
        "id": "-W2iRVoviTKY"
      }
    }
  ]
}