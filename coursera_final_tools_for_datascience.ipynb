{
  "nbformat": 4,
  "nbformat_minor": 0,
  "metadata": {
    "colab": {
      "provenance": []
    },
    "kernelspec": {
      "name": "python3",
      "display_name": "Python 3"
    },
    "language_info": {
      "name": "python"
    }
  },
  "cells": [
    {
      "cell_type": "code",
      "execution_count": null,
      "metadata": {
        "id": "uod6mJO1eWVC"
      },
      "outputs": [],
      "source": []
    },
    {
      "cell_type": "markdown",
      "source": [],
      "metadata": {
        "id": "lIKMEVkBesbo"
      }
    },
    {
      "cell_type": "markdown",
      "source": [
        "**Coursera Final Project**"
      ],
      "metadata": {
        "id": "LIRbHaZoeblK"
      }
    },
    {
      "cell_type": "markdown",
      "source": [
        "**Introduction**"
      ],
      "metadata": {
        "id": "eOVY_LScelrJ"
      }
    },
    {
      "cell_type": "markdown",
      "source": [],
      "metadata": {
        "id": "LU5ENGFCekk5"
      }
    },
    {
      "cell_type": "code",
      "source": [],
      "metadata": {
        "id": "OWizZw6yejfm"
      },
      "execution_count": null,
      "outputs": []
    },
    {
      "cell_type": "markdown",
      "source": [
        "DS Languanges\n",
        "[\"python\", \"R\", \"javascript\"]"
      ],
      "metadata": {
        "id": "szcgNMTfe0LQ"
      }
    },
    {
      "cell_type": "markdown",
      "source": [
        "**DS Libraries**\n",
        "[\"numpy\", \"pandas\", \"scikit-learn\"]"
      ],
      "metadata": {
        "id": "EXiOk9InezXv"
      }
    },
    {
      "cell_type": "code",
      "source": [],
      "metadata": {
        "id": "oGb4DXcZe-6P"
      },
      "execution_count": null,
      "outputs": []
    },
    {
      "cell_type": "markdown",
      "source": [
        "tools: {\"jupyter\", \"r-studio\", \"tableau\"}"
      ],
      "metadata": {
        "id": "rNaf-KH1fGNq"
      }
    },
    {
      "cell_type": "code",
      "source": [],
      "metadata": {
        "id": "WvGYpNjQfWLo"
      },
      "execution_count": null,
      "outputs": []
    },
    {
      "cell_type": "markdown",
      "source": [
        "### Arithmetic Expression Examples\n",
        "# Multiplication\n",
        "x = 5\n",
        "y = 3\n",
        "multiplication_result = x * y\n",
        "multiplication_result\n",
        "\n",
        "# Addition\n",
        "a = 10\n",
        "b = 7\n",
        "addition_result = a + b\n",
        "addition_result\n"
      ],
      "metadata": {
        "id": "pHBL0ckLfbHG"
      }
    },
    {
      "cell_type": "markdown",
      "source": [
        "### Objectives\n",
        "\n",
        "In this notebook, we aim to:\n",
        "\n",
        "1. Explore basic arithmetic expressions.\n",
        "2. Perform multiplication and addition of numbers.\n",
        "3. Convert minutes to hours using Python.\n",
        "4. Share the notebook through GitHub.\n",
        "5. Include author information."
      ],
      "metadata": {
        "id": "ghOicY_gjhaL"
      }
    },
    {
      "cell_type": "code",
      "source": [],
      "metadata": {
        "id": "A0gFnyLNfjd2"
      },
      "execution_count": null,
      "outputs": []
    },
    {
      "cell_type": "markdown",
      "source": [
        "# Conversion: Minutes to Hours\n",
        "minutes = 60\n",
        "hours = minutes / 60\n",
        "hours #1\n"
      ],
      "metadata": {
        "id": "fUurCAdQft_8"
      }
    },
    {
      "cell_type": "code",
      "source": [],
      "metadata": {
        "id": "-aWEYXM2fuih"
      },
      "execution_count": null,
      "outputs": []
    },
    {
      "cell_type": "markdown",
      "source": [
        "*Author: Baskoro Nugroho*"
      ],
      "metadata": {
        "id": "-W2iRVoviTKY"
      }
    },
    {
      "cell_type": "code",
      "source": [],
      "metadata": {
        "id": "K7BGzuA6iUlP"
      },
      "execution_count": null,
      "outputs": []
    }
  ]
}