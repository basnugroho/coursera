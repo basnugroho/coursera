{
  "nbformat": 4,
  "nbformat_minor": 0,
  "metadata": {
    "colab": {
      "provenance": []
    },
    "kernelspec": {
      "name": "python3",
      "display_name": "Python 3"
    },
    "language_info": {
      "name": "python"
    }
  },
  "cells": [
    {
      "cell_type": "code",
      "execution_count": null,
      "metadata": {
        "id": "uod6mJO1eWVC"
      },
      "outputs": [],
      "source": []
    },
    {
      "cell_type": "markdown",
      "source": [],
      "metadata": {
        "id": "lIKMEVkBesbo"
      }
    },
    {
      "cell_type": "markdown",
      "source": [
        "**Coursera Final Project**"
      ],
      "metadata": {
        "id": "LIRbHaZoeblK"
      }
    },
    {
      "cell_type": "markdown",
      "source": [
        "**Introduction**"
      ],
      "metadata": {
        "id": "eOVY_LScelrJ"
      }
    },
    {
      "cell_type": "markdown",
      "source": [],
      "metadata": {
        "id": "LU5ENGFCekk5"
      }
    },
    {
      "cell_type": "code",
      "source": [],
      "metadata": {
        "id": "OWizZw6yejfm"
      },
      "execution_count": null,
      "outputs": []
    },
    {
      "cell_type": "markdown",
      "source": [
        "[\"python\", \"R\", \"javascript\"]"
      ],
      "metadata": {
        "id": "szcgNMTfe0LQ"
      }
    },
    {
      "cell_type": "markdown",
      "source": [
        "[\"numpy\", \"pandas\", \"scikit-learn\"]"
      ],
      "metadata": {
        "id": "EXiOk9InezXv"
      }
    },
    {
      "cell_type": "code",
      "source": [],
      "metadata": {
        "id": "oGb4DXcZe-6P"
      },
      "execution_count": null,
      "outputs": []
    },
    {
      "cell_type": "markdown",
      "source": [
        "tools: {\"jupyter\", \"r-studio\", \"tableau\"}"
      ],
      "metadata": {
        "id": "rNaf-KH1fGNq"
      }
    },
    {
      "cell_type": "code",
      "source": [],
      "metadata": {
        "id": "WvGYpNjQfWLo"
      },
      "execution_count": null,
      "outputs": []
    },
    {
      "cell_type": "markdown",
      "source": [
        "### Arithmetic Expression Examples\n",
        "# Multiplication\n",
        "x = 5\n",
        "y = 3\n",
        "multiplication_result = x * y\n",
        "multiplication_result\n",
        "\n",
        "# Addition\n",
        "a = 10\n",
        "b = 7\n",
        "addition_result = a + b\n",
        "addition_result\n"
      ],
      "metadata": {
        "id": "pHBL0ckLfbHG"
      }
    },
    {
      "cell_type": "code",
      "source": [],
      "metadata": {
        "id": "A0gFnyLNfjd2"
      },
      "execution_count": null,
      "outputs": []
    },
    {
      "cell_type": "markdown",
      "source": [
        "# Conversion: Minutes to Hours\n",
        "minutes = 150\n",
        "hours = minutes / 60\n",
        "hours\n"
      ],
      "metadata": {
        "id": "fUurCAdQft_8"
      }
    },
    {
      "cell_type": "code",
      "source": [],
      "metadata": {
        "id": "-aWEYXM2fuih"
      },
      "execution_count": null,
      "outputs": []
    }
  ]
}